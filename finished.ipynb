{
 "cells": [
  {
   "cell_type": "markdown",
   "id": "38b63063",
   "metadata": {},
   "source": [
    "# Data Science Tools and Ecosystem"
   ]
  },
  {
   "cell_type": "markdown",
   "id": "e727b4ac",
   "metadata": {},
   "source": [
    "In this notebook, Data Science Tools and Ecosystem are summarized."
   ]
  },
  {
   "cell_type": "markdown",
   "id": "7b3726fc",
   "metadata": {},
   "source": [
    "**Objectives:**\n",
    "-Most used languages for Data Science\n",
    "-Useful libraries for Data Science\n",
    "-Useful tools\n",
    "-Basic opeations that you are able to execute in a Jupyter notebook\n"
   ]
  },
  {
   "cell_type": "markdown",
   "id": "c4646ab5",
   "metadata": {},
   "source": [
    "### Some of the popular languages that Data Scientists use are:\n",
    "1. Python\n",
    "3. R\n",
    "2. C\n",
    "4. C++"
   ]
  },
  {
   "cell_type": "markdown",
   "id": "89f34cca",
   "metadata": {},
   "source": [
    "### Some of the commonly used libraries used by Data Scientists include:\n",
    "1. Matplot\n",
    "2. Pandas\n",
    "3. Numpy\n",
    "4. TensorFlow\n",
    "5. SeaBorn"
   ]
  },
  {
   "cell_type": "markdown",
   "id": "06409112",
   "metadata": {},
   "source": [
    "|Data Science Tools|\n",
    "-----------------------------\n",
    "|R & Rstudio|\n",
    "|JupyterLab|\n",
    "|Git|"
   ]
  },
  {
   "cell_type": "markdown",
   "id": "b02a5f5c",
   "metadata": {},
   "source": [
    "### Below are a few examples of evaluating arithmetic expressions in Python:"
   ]
  },
  {
   "cell_type": "code",
   "execution_count": 5,
   "id": "f2f84ed9",
   "metadata": {},
   "outputs": [
    {
     "data": {
      "text/plain": [
       "17"
      ]
     },
     "execution_count": 5,
     "metadata": {},
     "output_type": "execute_result"
    }
   ],
   "source": [
    "## This a simple arithmetic expression to mutiply then add integers\n",
    "(3*4)+5"
   ]
  },
  {
   "cell_type": "code",
   "execution_count": 4,
   "id": "8325277f",
   "metadata": {},
   "outputs": [
    {
     "data": {
      "text/plain": [
       "3.3333333333333335"
      ]
     },
     "execution_count": 4,
     "metadata": {},
     "output_type": "execute_result"
    }
   ],
   "source": [
    "## This will convert 200 minutes to hours by diving by 60\n",
    "(200/60)"
   ]
  },
  {
   "cell_type": "markdown",
   "id": "35259449",
   "metadata": {},
   "source": [
    "## Author:\n",
    "Cristhian Aguila"
   ]
  }
 ],
 "metadata": {
  "kernelspec": {
   "display_name": "Python 3 (ipykernel)",
   "language": "python",
   "name": "python3"
  },
  "language_info": {
   "codemirror_mode": {
    "name": "ipython",
    "version": 3
   },
   "file_extension": ".py",
   "mimetype": "text/x-python",
   "name": "python",
   "nbconvert_exporter": "python",
   "pygments_lexer": "ipython3",
   "version": "3.11.3"
  }
 },
 "nbformat": 4,
 "nbformat_minor": 5
}
